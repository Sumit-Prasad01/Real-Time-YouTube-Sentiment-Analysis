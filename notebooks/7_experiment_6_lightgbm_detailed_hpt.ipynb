{
 "cells": [
  {
   "cell_type": "code",
   "execution_count": 4,
   "id": "71b82071",
   "metadata": {},
   "outputs": [],
   "source": [
    "import pandas as pd\n",
    "from sklearn.feature_extraction.text import TfidfVectorizer\n",
    "from sklearn.model_selection import train_test_split\n",
    "from sklearn.metrics import accuracy_score, classification_report\n",
    "from imblearn.over_sampling import SMOTE\n",
    "import mlflow\n",
    "import mlflow.sklearn\n",
    "import optuna\n",
    "import mlflow\n",
    "from lightgbm import LGBMClassifier\n",
    "import matplotlib.pyplot as plt\n",
    "import tqdm as notebook_tqdm"
   ]
  },
  {
   "cell_type": "code",
   "execution_count": null,
   "id": "cc3d35d9",
   "metadata": {},
   "outputs": [],
   "source": [
    "mlflow.set_tracking_uri(\"mlflow-uri\")\n",
    "mlflow.set_experiment(\"LightGBM HP Tuning\")"
   ]
  },
  {
   "cell_type": "code",
   "execution_count": 6,
   "id": "ea7e4f1a",
   "metadata": {},
   "outputs": [
    {
     "data": {
      "text/plain": [
       "(36662, 2)"
      ]
     },
     "execution_count": 6,
     "metadata": {},
     "output_type": "execute_result"
    }
   ],
   "source": [
    "df = pd.read_csv('../data/reddit_preprocessing.csv').dropna()\n",
    "df.shape"
   ]
  },
  {
   "cell_type": "code",
   "execution_count": 7,
   "id": "b0d4b9a7",
   "metadata": {},
   "outputs": [],
   "source": [
    "# Step 1: Remap the class labels from [-1, 0, 1] to [2, 0, 1]\n",
    "df['category'] = df['category'].map({-1: 2, 0: 0, 1: 1})\n",
    "\n",
    "# Step 2: Remove rows where the target labels (category) are NaN\n",
    "df = df.dropna(subset=['category'])"
   ]
  },
  {
   "cell_type": "code",
   "execution_count": 8,
   "id": "ff810c9a",
   "metadata": {},
   "outputs": [],
   "source": [
    "# Step 3: TF-IDF vectorizer setup\n",
    "ngram_range = (1, 3)  # Trigram\n",
    "max_features = 1000  # Set max_features to 1000\n",
    "vectorizer = TfidfVectorizer(ngram_range=ngram_range, max_features=max_features)\n",
    "X = vectorizer.fit_transform(df['clean_comment'])\n",
    "y = df['category']\n",
    "\n",
    "# Step 4: Apply SMOTE to handle class imbalance\n",
    "smote = SMOTE(random_state=42)\n",
    "X_resampled, y_resampled = smote.fit_resample(X, y)"
   ]
  },
  {
   "cell_type": "code",
   "execution_count": 9,
   "id": "0b5be4a9",
   "metadata": {},
   "outputs": [],
   "source": [
    "X_train, X_test, y_train, y_test = train_test_split(X_resampled, y_resampled, test_size=0.2, random_state=42, stratify=y_resampled)"
   ]
  },
  {
   "cell_type": "code",
   "execution_count": 10,
   "id": "259dbd3f",
   "metadata": {},
   "outputs": [],
   "source": [
    "# Function to log results in MLflow\n",
    "def log_mlflow(model_name, model, X_train, X_test, y_train, y_test, params, trial_number):\n",
    "    with mlflow.start_run():\n",
    "        # Log model type and trial number\n",
    "        mlflow.set_tag(\"mlflow.runName\", f\"Trial_{trial_number}_{model_name}_SMOTE_TFIDF_Trigrams\")\n",
    "        mlflow.set_tag(\"experiment_type\", \"algorithm_comparison\")\n",
    "\n",
    "        # Log algorithm name as a parameter\n",
    "        mlflow.log_param(\"algo_name\", model_name)\n",
    "\n",
    "        # Log hyperparameters\n",
    "        for key, value in params.items():\n",
    "            mlflow.log_param(key, value)\n",
    "\n",
    "        # Train model\n",
    "        model.fit(X_train, y_train)\n",
    "        y_pred = model.predict(X_test)\n",
    "\n",
    "        # Log accuracy\n",
    "        accuracy = accuracy_score(y_test, y_pred)\n",
    "        mlflow.log_metric(\"accuracy\", accuracy)\n",
    "\n",
    "        # Log classification report\n",
    "        classification_rep = classification_report(y_test, y_pred, output_dict=True)\n",
    "        for label, metrics in classification_rep.items():\n",
    "            if isinstance(metrics, dict):\n",
    "                for metric, value in metrics.items():\n",
    "                    mlflow.log_metric(f\"{label}_{metric}\", value)\n",
    "\n",
    "        # Log the model\n",
    "        mlflow.sklearn.log_model(model, f\"{model_name}_model\")\n",
    "\n",
    "        return accuracy"
   ]
  },
  {
   "cell_type": "code",
   "execution_count": 11,
   "id": "05251aef",
   "metadata": {},
   "outputs": [],
   "source": [
    "# Step 6: Optuna objective function for LightGBM\n",
    "def objective_lightgbm(trial):\n",
    "    # Hyperparameter space to explore\n",
    "    n_estimators = trial.suggest_int('n_estimators', 100, 1000)\n",
    "    learning_rate = trial.suggest_float('learning_rate', 1e-4, 1e-1, log=True)\n",
    "    max_depth = trial.suggest_int('max_depth', 3, 15)\n",
    "    num_leaves = trial.suggest_int('num_leaves', 20, 150)\n",
    "    min_child_samples = trial.suggest_int('min_child_samples', 10, 100)\n",
    "    colsample_bytree = trial.suggest_float('colsample_bytree', 0.5, 1.0)\n",
    "    subsample = trial.suggest_float('subsample', 0.5, 1.0)\n",
    "    reg_alpha = trial.suggest_float('reg_alpha', 1e-4, 10.0, log=True)  # L1 regularization\n",
    "    reg_lambda = trial.suggest_float('reg_lambda', 1e-4, 10.0, log=True)  # L2 regularization\n",
    "\n",
    "    # Log trial parameters\n",
    "    params = {\n",
    "        'n_estimators': n_estimators,\n",
    "        'learning_rate': learning_rate,\n",
    "        'max_depth': max_depth,\n",
    "        'num_leaves': num_leaves,\n",
    "        'min_child_samples': min_child_samples,\n",
    "        'colsample_bytree': colsample_bytree,\n",
    "        'subsample': subsample,\n",
    "        'reg_alpha': reg_alpha,\n",
    "        'reg_lambda': reg_lambda\n",
    "    }\n",
    "\n",
    "    # Create LightGBM model\n",
    "    model = LGBMClassifier(n_estimators=n_estimators,\n",
    "                           learning_rate=learning_rate,\n",
    "                           max_depth=max_depth,\n",
    "                           num_leaves=num_leaves,\n",
    "                           min_child_samples=min_child_samples,\n",
    "                           colsample_bytree=colsample_bytree,\n",
    "                           subsample=subsample,\n",
    "                           reg_alpha=reg_alpha,\n",
    "                           reg_lambda=reg_lambda,\n",
    "                           random_state=42)\n",
    "\n",
    "    # Log each trial as a separate run in MLflow\n",
    "    accuracy = log_mlflow(\"LightGBM\", model, X_train, X_test, y_train, y_test, params, trial.number)\n",
    "\n",
    "    return accuracy"
   ]
  },
  {
   "cell_type": "code",
   "execution_count": 12,
   "id": "df2bacee",
   "metadata": {},
   "outputs": [],
   "source": [
    "# Step 7: Run Optuna for LightGBM, log the best model, and plot the importance of each parameter\n",
    "def run_optuna_experiment():\n",
    "    study = optuna.create_study(direction=\"maximize\")\n",
    "    study.optimize(objective_lightgbm, n_trials=100)  # Increased to 100 trials\n",
    "\n",
    "    # Get the best parameters\n",
    "    best_params = study.best_params\n",
    "    best_model = LGBMClassifier(n_estimators=best_params['n_estimators'],\n",
    "                                learning_rate=best_params['learning_rate'],\n",
    "                                max_depth=best_params['max_depth'],\n",
    "                                num_leaves=best_params['num_leaves'],\n",
    "                                min_child_samples=best_params['min_child_samples'],\n",
    "                                colsample_bytree=best_params['colsample_bytree'],\n",
    "                                subsample=best_params['subsample'],\n",
    "                                reg_alpha=best_params['reg_alpha'],\n",
    "                                reg_lambda=best_params['reg_lambda'],\n",
    "                                random_state=42)\n",
    "\n",
    "    # Log the best model with MLflow and print the classification report\n",
    "    log_mlflow(\"LightGBM\", best_model, X_train, X_test, y_train, y_test, best_params, \"Best\")\n",
    "\n",
    "    # Plot parameter importance\n",
    "    optuna.visualization.plot_param_importances(study).show()\n",
    "\n",
    "    # Plot optimization history\n",
    "    optuna.visualization.plot_optimization_history(study).show()"
   ]
  },
  {
   "cell_type": "code",
   "execution_count": null,
   "id": "73e8bb9e",
   "metadata": {},
   "outputs": [],
   "source": [
    "run_optuna_experiment()"
   ]
  },
  {
   "cell_type": "code",
   "execution_count": null,
   "id": "423088ea",
   "metadata": {},
   "outputs": [],
   "source": [
    "best_model"
   ]
  }
 ],
 "metadata": {
  "kernelspec": {
   "display_name": ".venv",
   "language": "python",
   "name": "python3"
  },
  "language_info": {
   "codemirror_mode": {
    "name": "ipython",
    "version": 3
   },
   "file_extension": ".py",
   "mimetype": "text/x-python",
   "name": "python",
   "nbconvert_exporter": "python",
   "pygments_lexer": "ipython3",
   "version": "3.12.4"
  }
 },
 "nbformat": 4,
 "nbformat_minor": 5
}
